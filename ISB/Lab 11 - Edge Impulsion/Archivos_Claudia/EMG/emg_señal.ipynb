{
 "cells": [
  {
   "cell_type": "code",
   "execution_count": 3,
   "id": "d41a5a4a",
   "metadata": {},
   "outputs": [],
   "source": [
    "import pandas as pd\n",
    "import matplotlib.pyplot as plt\n",
    "import numpy as np\n",
    "import glob\n",
    "import requests\n",
    "from scipy.io import loadmat\n",
    "import csv\n",
    "import os\n",
    "import re\n",
    "import json\n",
    "import time, hmac, hashlib\n",
    "import requests"
   ]
  },
  {
   "cell_type": "code",
   "execution_count": 7,
   "id": "d0f9a49d",
   "metadata": {},
   "outputs": [
    {
     "name": "stdout",
     "output_type": "stream",
     "text": [
      "Archivo convertido y guardado en C:\\Users\\claro\\Downloads\\emg_señal_intro\\EMG_reposo_converted.csv\n"
     ]
    }
   ],
   "source": [
    "input_csv_file_path = 'C:\\\\Users\\\\claro\\\\Downloads\\\\emg_señal_intro\\\\EMG_reposo.csv'\n",
    "output_csv_file_path = input_csv_file_path.replace('.csv', '_converted.csv')\n",
    "\n",
    "with open(input_csv_file_path, 'r') as input_csv_file, open(output_csv_file_path, 'w', newline='') as output_csv_file:\n",
    "    reader = csv.reader(input_csv_file, delimiter=';')\n",
    "    writer = csv.writer(output_csv_file, delimiter=',')\n",
    "    \n",
    "    for row in reader:\n",
    "        writer.writerow(row)\n",
    "\n",
    "print(f'Archivo convertido y guardado en {output_csv_file_path}')"
   ]
  },
  {
   "cell_type": "code",
   "execution_count": 8,
   "id": "c678866b",
   "metadata": {},
   "outputs": [
    {
     "name": "stdout",
     "output_type": "stream",
     "text": [
      "Successfully uploaded C:\\Users\\claro\\Downloads\\emg_señal_intro\\EMG_extension.csv\n",
      " 200 b'{\"success\":true,\"files\":[{\"success\":true,\"projectId\":431045,\"sampleId\":1059369605,\"fileName\":\"EMG_extension.csv.50r68pku.json\"}]}'\n",
      "Successfully uploaded C:\\Users\\claro\\Downloads\\emg_señal_intro\\EMG_flexion.csv\n",
      " 200 b'{\"success\":true,\"files\":[{\"success\":true,\"projectId\":431045,\"sampleId\":1059369624,\"fileName\":\"EMG_flexion.csv.50r68rlt.json\"}]}'\n",
      "Successfully uploaded C:\\Users\\claro\\Downloads\\emg_señal_intro\\EMG_oposicion.csv\n",
      " 200 b'{\"success\":true,\"files\":[{\"success\":true,\"projectId\":431045,\"sampleId\":1059369641,\"fileName\":\"EMG_oposicion.csv.50r68tm6.json\"}]}'\n",
      "Successfully uploaded C:\\Users\\claro\\Downloads\\emg_señal_intro\\EMG_reposo.csv\n",
      " 200 b'{\"success\":true,\"files\":[{\"success\":true,\"projectId\":431045,\"sampleId\":1059369656,\"fileName\":\"EMG_reposo.csv.50r68va5.json\"}]}'\n"
     ]
    }
   ],
   "source": [
    "api_key = 'ei_4b80dd93f009370d0dc3d2f882cd36ebf22decdf0e75320943d417674ba5d390'\n",
    "\n",
    "csv_files = [\n",
    "    'C:\\\\Users\\\\claro\\\\Downloads\\\\emg_señal_intro\\\\EMG_extension.csv',\n",
    "    'C:\\\\Users\\\\claro\\\\Downloads\\\\emg_señal_intro\\\\EMG_flexion.csv',\n",
    "    'C:\\\\Users\\\\claro\\\\Downloads\\\\emg_señal_intro\\\\EMG_oposicion.csv',\n",
    "    'C:\\\\Users\\\\claro\\\\Downloads\\\\emg_señal_intro\\\\EMG_reposo.csv',\n",
    "\n",
    "]\n",
    "\n",
    "# Reemplaza la etiqueta con la tuya propia.\n",
    "label = 'ecg_signal'\n",
    "\n",
    "# Función para subir un solo archivo a Edge Impulse\n",
    "def upload_file(file_path, label, api_key):\n",
    "    try:\n",
    "        with open(file_path, 'rb') as f:\n",
    "            res = requests.post(\n",
    "                url='https://ingestion.edgeimpulse.com/api/training/files',\n",
    "                headers={\n",
    "                    'x-label': label,\n",
    "                    'x-api-key': api_key,\n",
    "                },\n",
    "                files={\n",
    "                    'data': (os.path.basename(file_path), f, 'text/csv')\n",
    "                }\n",
    "            )\n",
    "        \n",
    "        if res.status_code == 200:\n",
    "            print(f'Successfully uploaded {file_path}\\n', res.status_code, res.content)\n",
    "        else:\n",
    "            print(f'Failed to upload {file_path}\\n', res.status_code, res.content)\n",
    "    except Exception as e:\n",
    "        print(f'Error uploading {file_path}: {e}')\n",
    "\n",
    "# Subir cada archivo de la lista\n",
    "for file_path in csv_files:\n",
    "    upload_file(file_path, label, api_key)"
   ]
  },
  {
   "cell_type": "code",
   "execution_count": null,
   "id": "461e472f",
   "metadata": {},
   "outputs": [],
   "source": []
  }
 ],
 "metadata": {
  "kernelspec": {
   "display_name": "Python 3 (ipykernel)",
   "language": "python",
   "name": "python3"
  },
  "language_info": {
   "codemirror_mode": {
    "name": "ipython",
    "version": 3
   },
   "file_extension": ".py",
   "mimetype": "text/x-python",
   "name": "python",
   "nbconvert_exporter": "python",
   "pygments_lexer": "ipython3",
   "version": "3.11.2"
  }
 },
 "nbformat": 4,
 "nbformat_minor": 5
}
