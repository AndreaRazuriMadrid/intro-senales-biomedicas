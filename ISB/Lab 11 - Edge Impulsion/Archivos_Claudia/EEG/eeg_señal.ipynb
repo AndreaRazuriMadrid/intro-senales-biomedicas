{
 "cells": [
  {
   "cell_type": "code",
   "execution_count": 2,
   "id": "14b9cf0d",
   "metadata": {},
   "outputs": [],
   "source": [
    "import pandas as pd\n",
    "import matplotlib.pyplot as plt\n",
    "import numpy as np\n",
    "import glob\n",
    "import requests\n",
    "from scipy.io import loadmat\n",
    "import csv\n",
    "import os\n",
    "import re\n",
    "import json\n",
    "import time, hmac, hashlib\n",
    "import requests"
   ]
  },
  {
   "cell_type": "code",
   "execution_count": 4,
   "id": "e749c771",
   "metadata": {},
   "outputs": [
    {
     "name": "stdout",
     "output_type": "stream",
     "text": [
      "Archivo convertido y guardado en C:\\Users\\claro\\Downloads\\eeg_señal_intro\\EEG_REPOSO_converted.csv\n"
     ]
    }
   ],
   "source": [
    "import csv\n",
    "\n",
    "input_csv_file_path = 'C:\\\\Users\\\\claro\\\\Downloads\\\\eeg_señal_intro\\\\EEG_REPOSO.csv'\n",
    "output_csv_file_path = input_csv_file_path.replace('.csv', '_converted.csv')\n",
    "\n",
    "with open(input_csv_file_path, 'r') as input_csv_file, open(output_csv_file_path, 'w', newline='') as output_csv_file:\n",
    "    reader = csv.reader(input_csv_file, delimiter=';')\n",
    "    writer = csv.writer(output_csv_file, delimiter=',')\n",
    "    \n",
    "    for row in reader:\n",
    "        writer.writerow(row)\n",
    "\n",
    "print(f'Archivo convertido y guardado en {output_csv_file_path}')\n"
   ]
  },
  {
   "cell_type": "code",
   "execution_count": 5,
   "id": "d9767600",
   "metadata": {},
   "outputs": [
    {
     "name": "stdout",
     "output_type": "stream",
     "text": [
      "Successfully uploaded C:\\Users\\claro\\Downloads\\eeg_señal_intro\\EEG_REPOSO.csv\n",
      " 200 b'{\"success\":true,\"files\":[{\"success\":true,\"projectId\":431463,\"sampleId\":1059336056,\"fileName\":\"EEG_REPOSO.csv.50r51pv8.json\"}]}'\n"
     ]
    }
   ],
   "source": [
    "api_key = 'ei_b1e23dd418efa92456f8bcf1c9644d5d1c0918be2c4a6e7475e143964b2f6a0c'\n",
    "\n",
    "csv_files = [\n",
    "    'C:\\\\Users\\\\claro\\\\Downloads\\\\eeg_señal_intro\\\\EEG_REPOSO.csv',\n",
    "\n",
    "]\n",
    "\n",
    "# Reemplaza la etiqueta con la tuya propia.\n",
    "label = 'eeg_signal'\n",
    "\n",
    "# Función para subir un solo archivo a Edge Impulse\n",
    "def upload_file(file_path, label, api_key):\n",
    "    try:\n",
    "        with open(file_path, 'rb') as f:\n",
    "            res = requests.post(\n",
    "                url='https://ingestion.edgeimpulse.com/api/training/files',\n",
    "                headers={\n",
    "                    'x-label': label,\n",
    "                    'x-api-key': api_key,\n",
    "                },\n",
    "                files={\n",
    "                    'data': (os.path.basename(file_path), f, 'text/csv')\n",
    "                }\n",
    "            )\n",
    "        \n",
    "        if res.status_code == 200:\n",
    "            print(f'Successfully uploaded {file_path}\\n', res.status_code, res.content)\n",
    "        else:\n",
    "            print(f'Failed to upload {file_path}\\n', res.status_code, res.content)\n",
    "    except Exception as e:\n",
    "        print(f'Error uploading {file_path}: {e}')\n",
    "\n",
    "# Subir cada archivo de la lista\n",
    "for file_path in csv_files:\n",
    "    upload_file(file_path, label, api_key)"
   ]
  },
  {
   "cell_type": "code",
   "execution_count": null,
   "id": "1f8a9578",
   "metadata": {},
   "outputs": [],
   "source": []
  }
 ],
 "metadata": {
  "kernelspec": {
   "display_name": "Python 3 (ipykernel)",
   "language": "python",
   "name": "python3"
  },
  "language_info": {
   "codemirror_mode": {
    "name": "ipython",
    "version": 3
   },
   "file_extension": ".py",
   "mimetype": "text/x-python",
   "name": "python",
   "nbconvert_exporter": "python",
   "pygments_lexer": "ipython3",
   "version": "3.11.2"
  }
 },
 "nbformat": 4,
 "nbformat_minor": 5
}
