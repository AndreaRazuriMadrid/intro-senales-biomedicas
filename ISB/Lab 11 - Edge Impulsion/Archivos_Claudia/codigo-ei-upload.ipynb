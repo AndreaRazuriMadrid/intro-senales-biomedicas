{
 "cells": [
  {
   "cell_type": "markdown",
   "metadata": {},
   "source": [
    "# Clasificador de señales ECG patologicas en edge impulse"
   ]
  },
  {
   "cell_type": "code",
   "execution_count": 36,
   "metadata": {
    "_cell_guid": "b1076dfc-b9ad-4769-8c92-a6c4dae69d19",
    "_uuid": "8f2839f25d086af736a60e9eeb907d3b93b6e0e5",
    "execution": {
     "iopub.execute_input": "2023-11-17T22:56:13.020185Z",
     "iopub.status.busy": "2023-11-17T22:56:13.019910Z",
     "iopub.status.idle": "2023-11-17T22:56:13.124884Z",
     "shell.execute_reply": "2023-11-17T22:56:13.123986Z",
     "shell.execute_reply.started": "2023-11-17T22:56:13.020158Z"
    }
   },
   "outputs": [],
   "source": [
    "import pandas as pd\n",
    "import matplotlib.pyplot as plt\n",
    "import numpy as np\n",
    "import glob\n",
    "import requests\n",
    "from scipy.io import loadmat\n",
    "import csv\n",
    "import os\n",
    "import re\n",
    "import json\n",
    "import time, hmac, hashlib\n",
    "import requests"
   ]
  },
  {
   "cell_type": "code",
   "execution_count": 44,
   "metadata": {},
   "outputs": [
    {
     "name": "stdout",
     "output_type": "stream",
     "text": [
      "Archivo convertido y guardado en C:\\Users\\claro\\Downloads\\dataset_intro\\ECG_Sentadillas_converted.csv\n"
     ]
    }
   ],
   "source": [
    "import csv\n",
    "\n",
    "input_csv_file_path = 'C:\\\\Users\\\\claro\\\\Downloads\\\\dataset_intro\\\\ECG_Sentadillas.csv'\n",
    "output_csv_file_path = input_csv_file_path.replace('.csv', '_converted.csv')\n",
    "\n",
    "with open(input_csv_file_path, 'r') as input_csv_file, open(output_csv_file_path, 'w', newline='') as output_csv_file:\n",
    "    reader = csv.reader(input_csv_file, delimiter=';')\n",
    "    writer = csv.writer(output_csv_file, delimiter=',')\n",
    "    \n",
    "    for row in reader:\n",
    "        writer.writerow(row)\n",
    "\n",
    "print(f'Archivo convertido y guardado en {output_csv_file_path}')\n"
   ]
  },
  {
   "cell_type": "markdown",
   "metadata": {},
   "source": [
    "## Funciones de ayuda para subir data a Edge impulse"
   ]
  },
  {
   "cell_type": "code",
   "execution_count": 45,
   "metadata": {},
   "outputs": [
    {
     "name": "stdout",
     "output_type": "stream",
     "text": [
      "Successfully uploaded C:\\Users\\claro\\Downloads\\dataset_intro\\ECG_despuesdeactividad.csv\n",
      " 200 b'{\"success\":true,\"files\":[{\"success\":true,\"projectId\":431045,\"sampleId\":1058998114,\"fileName\":\"ECG_despuesdeactividad.csv.50qcdbcp.json\"}]}'\n",
      "Successfully uploaded C:\\Users\\claro\\Downloads\\dataset_intro\\ECG_hiperventilación.csv\n",
      " 200 b'{\"success\":true,\"files\":[{\"success\":true,\"projectId\":431045,\"sampleId\":1058998115,\"fileName\":\"ECG_hiperventilaci\\xc3\\xb3n.csv.50qcde74.json\"}]}'\n",
      "Failed to upload C:\\Users\\claro\\Downloads\\dataset_intro\\ECG_reposo.csv\n",
      " 500 b'{\"success\":false,\"error\":\"Could not parse this CSV file, go to https://studio.edgeimpulse.com/studio/431045/upload/csv to help us import this CSV file. (Error message: For CSV files without a timestamp column, need exactly one line with values (but found 16650))\"}'\n",
      "Successfully uploaded C:\\Users\\claro\\Downloads\\dataset_intro\\ECG_Sentadillas.csv\n",
      " 200 b'{\"success\":true,\"files\":[{\"success\":true,\"projectId\":431045,\"sampleId\":1058998116,\"fileName\":\"ECG_Sentadillas.csv.50qcdmqq.json\"}]}'\n"
     ]
    }
   ],
   "source": [
    "api_key = 'ei_4b80dd93f009370d0dc3d2f882cd36ebf22decdf0e75320943d417674ba5d390'\n",
    "\n",
    "csv_files = [\n",
    "    'C:\\\\Users\\\\claro\\\\Downloads\\\\dataset_intro\\\\ECG_despuesdeactividad.csv',\n",
    "    'C:\\\\Users\\\\claro\\\\Downloads\\\\dataset_intro\\\\ECG_hiperventilación.csv',\n",
    "    'C:\\\\Users\\\\claro\\\\Downloads\\\\dataset_intro\\\\ECG_reposo.csv',\n",
    "    'C:\\\\Users\\\\claro\\\\Downloads\\\\dataset_intro\\\\ECG_Sentadillas.csv',\n",
    "\n",
    "]\n",
    "\n",
    "# Reemplaza la etiqueta con la tuya propia.\n",
    "label = 'ecg_signal'\n",
    "\n",
    "# Función para subir un solo archivo a Edge Impulse\n",
    "def upload_file(file_path, label, api_key):\n",
    "    try:\n",
    "        with open(file_path, 'rb') as f:\n",
    "            res = requests.post(\n",
    "                url='https://ingestion.edgeimpulse.com/api/training/files',\n",
    "                headers={\n",
    "                    'x-label': label,\n",
    "                    'x-api-key': api_key,\n",
    "                },\n",
    "                files={\n",
    "                    'data': (os.path.basename(file_path), f, 'text/csv')\n",
    "                }\n",
    "            )\n",
    "        \n",
    "        if res.status_code == 200:\n",
    "            print(f'Successfully uploaded {file_path}\\n', res.status_code, res.content)\n",
    "        else:\n",
    "            print(f'Failed to upload {file_path}\\n', res.status_code, res.content)\n",
    "    except Exception as e:\n",
    "        print(f'Error uploading {file_path}: {e}')\n",
    "\n",
    "# Subir cada archivo de la lista\n",
    "for file_path in csv_files:\n",
    "    upload_file(file_path, label, api_key)"
   ]
  },
  {
   "cell_type": "code",
   "execution_count": 58,
   "metadata": {},
   "outputs": [
    {
     "name": "stdout",
     "output_type": "stream",
     "text": [
      "Successfully uploaded C:\\Users\\claro\\Downloads\\dataset_intro\\ECG_despuesdeactividad.csv\n",
      " 200 b'{\"success\":true,\"files\":[{\"success\":true,\"projectId\":431045,\"sampleId\":1059019071,\"fileName\":\"ECG_despuesdeactividad.csv.50qeb2m5.json\"}]}'\n",
      "Successfully uploaded C:\\Users\\claro\\Downloads\\dataset_intro\\ECG_reposo.csv\n",
      " 200 b'{\"success\":true,\"files\":[{\"success\":true,\"projectId\":431045,\"sampleId\":1059019086,\"fileName\":\"ECG_reposo.csv.50qeb4in.json\"}]}'\n"
     ]
    }
   ],
   "source": [
    "api_key = 'ei_4b80dd93f009370d0dc3d2f882cd36ebf22decdf0e75320943d417674ba5d390'\n",
    "\n",
    "csv_files = [\n",
    "    'C:\\\\Users\\\\claro\\\\Downloads\\\\dataset_intro\\\\ECG_despuesdeactividad.csv',\n",
    "    'C:\\\\Users\\\\claro\\\\Downloads\\\\dataset_intro\\\\ECG_reposo.csv',\n",
    "]\n",
    "\n",
    "# Reemplaza la etiqueta con la tuya propia.\n",
    "label = 'ecg_signal'\n",
    "\n",
    "# Función para subir un solo archivo a Edge Impulse\n",
    "def upload_file(file_path, label, api_key):\n",
    "    try:\n",
    "        with open(file_path, 'rb') as f:\n",
    "            res = requests.post(\n",
    "                url='https://ingestion.edgeimpulse.com/api/training/files',\n",
    "                headers={\n",
    "                    'x-label': label,\n",
    "                    'x-api-key': api_key,\n",
    "                },\n",
    "                files={\n",
    "                    'data': (os.path.basename(file_path), f, 'text/csv')\n",
    "                }\n",
    "            )\n",
    "        \n",
    "        if res.status_code == 200:\n",
    "            print(f'Successfully uploaded {file_path}\\n', res.status_code, res.content)\n",
    "        else:\n",
    "            print(f'Failed to upload {file_path}\\n', res.status_code, res.content)\n",
    "    except Exception as e:\n",
    "        print(f'Error uploading {file_path}: {e}')\n",
    "\n",
    "# Subir cada archivo de la lista\n",
    "for file_path in csv_files:\n",
    "    upload_file(file_path, label, api_key)"
   ]
  },
  {
   "cell_type": "code",
   "execution_count": null,
   "metadata": {},
   "outputs": [],
   "source": []
  }
 ],
 "metadata": {
  "kaggle": {
   "accelerator": "gpu",
   "dataSources": [
    {
     "datasetId": 3559876,
     "sourceId": 6200490,
     "sourceType": "datasetVersion"
    }
   ],
   "isGpuEnabled": true,
   "isInternetEnabled": true,
   "language": "python",
   "sourceType": "notebook"
  },
  "kernelspec": {
   "display_name": "Python 3 (ipykernel)",
   "language": "python",
   "name": "python3"
  },
  "language_info": {
   "codemirror_mode": {
    "name": "ipython",
    "version": 3
   },
   "file_extension": ".py",
   "mimetype": "text/x-python",
   "name": "python",
   "nbconvert_exporter": "python",
   "pygments_lexer": "ipython3",
   "version": "3.11.2"
  }
 },
 "nbformat": 4,
 "nbformat_minor": 4
}
